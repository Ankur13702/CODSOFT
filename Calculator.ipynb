{
 "cells": [
  {
   "cell_type": "code",
   "execution_count": null,
   "id": "bf70d159-85cc-4ea4-aa01-d59cf38f690b",
   "metadata": {},
   "outputs": [],
   "source": [
    "def calculator():\n",
    "    print(\"Simple Calculator\")\n",
    "    num1 = float(input(\"Enter the first number: \"))\n",
    "    num2 = float(input(\"Enter the second number: \"))\n",
    "    print(\"Choose an operation:\")\n",
    "    print(\"1. Addition (+)\")\n",
    "    print(\"2. Subtraction (-)\")\n",
    "    print(\"3. Multiplication (*)\")\n",
    "    print(\"4. Division (/)\")\n",
    "    operation = input(\"Enter the number corresponding to the operation (1/2/3/4): \")\n",
    "    if operation == '1':\n",
    "        result = num1 + num2\n",
    "        operation_symbol = '+'\n",
    "    elif operation == '2':\n",
    "        result = num1 - num2\n",
    "        operation_symbol = '-'\n",
    "    elif operation == '3':\n",
    "        result = num1 * num2\n",
    "        operation_symbol = '*'\n",
    "    elif operation == '4':\n",
    "        if num2 != 0:\n",
    "            result = num1 / num2\n",
    "            operation_symbol = '/'\n",
    "        else:\n",
    "            print(\"Error: Division by zero is not allowed.\")\n",
    "            return\n",
    "    else:\n",
    "        print(\"Invalid operation choice. Please choose 1, 2, 3, or 4.\")\n",
    "        return\n",
    "    print(f\"Result: {num1} {operation_symbol} {num2} = {result}\")\n",
    "calculator()"
   ]
  }
 ],
 "metadata": {
  "kernelspec": {
   "display_name": "Python 3 (ipykernel)",
   "language": "python",
   "name": "python3"
  },
  "language_info": {
   "codemirror_mode": {
    "name": "ipython",
    "version": 3
   },
   "file_extension": ".py",
   "mimetype": "text/x-python",
   "name": "python",
   "nbconvert_exporter": "python",
   "pygments_lexer": "ipython3",
   "version": "3.12.3"
  }
 },
 "nbformat": 4,
 "nbformat_minor": 5
}
