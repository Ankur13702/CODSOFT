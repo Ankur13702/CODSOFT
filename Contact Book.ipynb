{
 "cells": [
  {
   "cell_type": "code",
   "execution_count": null,
   "id": "95b0665e-e6b7-4196-a72c-a8b1f178768e",
   "metadata": {},
   "outputs": [],
   "source": [
    "contacts = []\n",
    "def add_contact():\n",
    "    contacts.append({\n",
    "        \"name\": input(\"Enter name: \"),\n",
    "        \"phone\": input(\"Enter phone: \"),\n",
    "        \"email\": input(\"Enter email: \"),\n",
    "        \"address\": input(\"Enter address: \")\n",
    "    })\n",
    "    print(\"Contact added!\")\n",
    "def view_contacts():\n",
    "    if contacts:\n",
    "        for idx, contact in enumerate(contacts, 1):\n",
    "            print(f\"{idx}. {contact['name']} - {contact['phone']}\")\n",
    "    else:\n",
    "        print(\"Not found.\")\n",
    "def search_contact():\n",
    "    term = input(\"Enter name or phone: \").lower()\n",
    "    found = [c for c in contacts if term in c['name'].lower() or term in c['phone']]\n",
    "    for contact in found:\n",
    "        print(f\"Name: {contact['name']}, Phone: {contact['phone']}, Email: {contact['email']}, Address: {contact['address']}\")\n",
    "def update_contact():\n",
    "    term = input(\"Enter name or phone of contact to update: \").lower()\n",
    "    for contact in contacts:\n",
    "        if term in contact['name'].lower() or term in contact['phone']:\n",
    "            contact['name'] = input(f\"New name ({contact['name']}): \") or contact['name']\n",
    "            contact['phone'] = input(f\"New phone ({contact['phone']}): \") or contact['phone']\n",
    "            contact['email'] = input(f\"New email ({contact['email']}): \") or contact['email']\n",
    "            contact['address'] = input(f\"New address ({contact['address']}): \") or contact['address']\n",
    "            print(\"Contact updated!\")\n",
    "            return\n",
    "    print(\"Contact not found.\")\n",
    "def delete_contact():\n",
    "    term = input(\"Enter name or phone of contact to delete: \").lower()\n",
    "    for contact in contacts:\n",
    "        if term in contact['name'].lower() or term in contact['phone']:\n",
    "            contacts.remove(contact)\n",
    "            print(\"Contact deleted!\")\n",
    "            return\n",
    "    print(\"Contact not found.\")\n",
    "\n",
    "def main():\n",
    "    while True:\n",
    "        print(\"\\n1. Add Contact\\n2. View Contacts\\n3. Search Contact\\n4. Update Contact\\n5. Delete Contact\\n6. Exit\")\n",
    "        choice = input(\"Choose an option: \")\n",
    "        if choice == '1': add_contact()\n",
    "        elif choice == '2': view_contacts()\n",
    "        elif choice == '3': search_contact()\n",
    "        elif choice == '4': update_contact()\n",
    "        elif choice == '5': delete_contact()\n",
    "        elif choice == '6': break\n",
    "        else: print(\"Invalid choice. Please try again.\")\n",
    "\n",
    "if __name__ == \"__main__\":\n",
    "    main()"
   ]
  }
 ],
 "metadata": {
  "kernelspec": {
   "display_name": "Python 3 (ipykernel)",
   "language": "python",
   "name": "python3"
  },
  "language_info": {
   "codemirror_mode": {
    "name": "ipython",
    "version": 3
   },
   "file_extension": ".py",
   "mimetype": "text/x-python",
   "name": "python",
   "nbconvert_exporter": "python",
   "pygments_lexer": "ipython3",
   "version": "3.12.3"
  }
 },
 "nbformat": 4,
 "nbformat_minor": 5
}
