{
 "cells": [
  {
   "cell_type": "code",
   "execution_count": 2,
   "id": "43b32759-ce9c-4902-a6e8-056248b8e51e",
   "metadata": {},
   "outputs": [
    {
     "name": "stdin",
     "output_type": "stream",
     "text": [
      "Enter the length for the password:  17\n"
     ]
    },
    {
     "name": "stdout",
     "output_type": "stream",
     "text": [
      "Generated Password: gyl`3i?/M1nXM.MvX\n"
     ]
    }
   ],
   "source": [
    "import random\n",
    "import string\n",
    "\n",
    "def generate_password(length):\n",
    "    characters = string.ascii_letters + string.digits + string.punctuation\n",
    "\n",
    "    password = ''.join(random.choice(characters) for _ in range(length))\n",
    "    \n",
    "    return password\n",
    "\n",
    "def main():\n",
    "    try:\n",
    "        length = int(input(\"Enter the length for the password: \"))\n",
    "        if length <= 0:\n",
    "            print(\"Please enter a positive integer for the password length.\")\n",
    "            return\n",
    "    except ValueError:\n",
    "        print(\"Invalid input. Please enter a valid integer for the password length.\")\n",
    "        return\n",
    "    password = generate_password(length)\n",
    "    print(f\"Generated Password: {password}\")\n",
    "if __name__ == \"__main__\":\n",
    "    main()"
   ]
  },
  {
   "cell_type": "code",
   "execution_count": null,
   "id": "f4443cb3-9161-482f-9e60-27aa921faba0",
   "metadata": {},
   "outputs": [],
   "source": []
  }
 ],
 "metadata": {
  "kernelspec": {
   "display_name": "Python 3 (ipykernel)",
   "language": "python",
   "name": "python3"
  },
  "language_info": {
   "codemirror_mode": {
    "name": "ipython",
    "version": 3
   },
   "file_extension": ".py",
   "mimetype": "text/x-python",
   "name": "python",
   "nbconvert_exporter": "python",
   "pygments_lexer": "ipython3",
   "version": "3.12.3"
  }
 },
 "nbformat": 4,
 "nbformat_minor": 5
}
